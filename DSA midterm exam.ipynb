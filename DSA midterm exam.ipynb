{
 "cells": [
  {
   "cell_type": "code",
   "execution_count": 30,
   "metadata": {},
   "outputs": [
    {
     "name": "stdout",
     "output_type": "stream",
     "text": [
      "S[i] 500\n",
      "500\n",
      "S[i] 400\n",
      "900\n",
      "S[i] 600\n",
      "1500\n",
      "S[i] 700\n",
      "2200\n",
      "[500. 450. 500. 550.]\n"
     ]
    }
   ],
   "source": [
    "import numpy as np\n",
    "S = [500,400,600,700]\n",
    "A = np.zeros(len(S))\n",
    "sum = 0\n",
    "for i in range(0,len(A)):\n",
    "    print('S[i]',S[i])\n",
    "    sum_new = sum + S[i]\n",
    "    sum = sum_new\n",
    "#     print(S[i])\n",
    "    print(sum)\n",
    "    A[i] = sum/(i+1)\n",
    "# for j in range(0,len(A)):\n",
    "#     A[j] = sum_new/(i+1)\n",
    "print(A)"
   ]
  },
  {
   "cell_type": "code",
   "execution_count": 138,
   "metadata": {},
   "outputs": [
    {
     "name": "stdout",
     "output_type": "stream",
     "text": [
      "A[0] 500.0\n",
      "A[0-1] 0.0\n",
      "1\n",
      "A[0] 900.0\n",
      "A[0-1] 0.0\n",
      "1\n",
      "A[0] 1500.0\n",
      "A[0-1] 0.0\n",
      "1\n",
      "[ 500.  900. 1500. 2200.]\n"
     ]
    }
   ],
   "source": [
    "import numpy as np\n",
    "S = [500,400,600,700]\n",
    "A = np.zeros(len(S))\n",
    "for i in range(1,len(A)):\n",
    "    A[0] = S[0]\n",
    "    print('A[0]',A[i-1])\n",
    "    print('A[0-1]',A[i])\n",
    "    for j in range(0,len(S)):\n",
    "        if j == i:\n",
    "            val = S[j]\n",
    "    A[i] = (A[i-1]+val)\n",
    "    print(day)\n",
    "    A[i] = A[i]/day_new\n",
    "#     print('A[i]',A[i])\n",
    "print(A)\n",
    "for i in range (1,len(A)):\n",
    "    A[i] = A[i] / i"
   ]
  },
  {
   "cell_type": "code",
   "execution_count": null,
   "metadata": {},
   "outputs": [],
   "source": []
  }
 ],
 "metadata": {
  "kernelspec": {
   "display_name": "Python 3",
   "language": "python",
   "name": "python3"
  },
  "language_info": {
   "codemirror_mode": {
    "name": "ipython",
    "version": 3
   },
   "file_extension": ".py",
   "mimetype": "text/x-python",
   "name": "python",
   "nbconvert_exporter": "python",
   "pygments_lexer": "ipython3",
   "version": "3.8.3"
  }
 },
 "nbformat": 4,
 "nbformat_minor": 4
}

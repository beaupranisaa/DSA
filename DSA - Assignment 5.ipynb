{
 "cells": [
  {
   "cell_type": "markdown",
   "metadata": {},
   "source": [
    "## Assignment 5\n",
    "#### Name: Pranisaa Charnparttaravanit\n",
    "#### ID: st121720"
   ]
  },
  {
   "cell_type": "markdown",
   "metadata": {},
   "source": [
    "\n",
    "Program the quicksort and heapsort algorithm in python.\n",
    "\n",
    "I believe that you already have the mergesort algorithm written in python.\n",
    "\n",
    "It is perplexing to me that while all these three algorithms share the same complexity, i.e., O(n lg n).  Most commercial applications prefer quicksort.\n",
    "\n",
    "Please do the followings:\n",
    "1. Compare the actual time run for these three algorithms (compare using varying size of n)\n",
    "2. Time the number of comparisons and exchanges of each algorithm (see slide 34 in the lecture slide for example).   \n",
    "3.  Plot 2 and 3 (make a table if you like)\n",
    "\n",
    "Submit the followings:\n",
    "1. Python code in pdf (exported)\n",
    "2. Your report  reporting your experiment findings - **no cover pages needed!**. (please keep them short - like one page but not one sentence!)"
   ]
  },
  {
   "cell_type": "code",
   "execution_count": 80,
   "metadata": {},
   "outputs": [],
   "source": [
    "import numpy as np\n",
    "import pandas as pd\n",
    "import time \n",
    "import random\n",
    "import math\n",
    "import matplotlib.pyplot as plt"
   ]
  },
  {
   "cell_type": "code",
   "execution_count": 81,
   "metadata": {},
   "outputs": [],
   "source": [
    "def lst(n):\n",
    "    A = np.random.randint(-100,100,size=(1,n))\n",
    "    np.random.seed(1)\n",
    "    A = list(A[0])\n",
    "    return A"
   ]
  },
  {
   "cell_type": "markdown",
   "metadata": {},
   "source": [
    "### Heapsort"
   ]
  },
  {
   "cell_type": "code",
   "execution_count": 82,
   "metadata": {},
   "outputs": [],
   "source": [
    "def max_heapify(arr,i,n):\n",
    "    global count_comp\n",
    "    global count_exc \n",
    "    l = 2*i + 1\n",
    "    r = 2*i + 2\n",
    "    largest = i\n",
    "    count_comp += 2\n",
    "    if l < n and arr[l] > arr[largest]:\n",
    "        largest = l\n",
    "    else: \n",
    "        largest = i\n",
    "    if r < n and arr[r] > arr[largest] :\n",
    "        largest = r\n",
    "    if largest != i:\n",
    "        count_exc += 1\n",
    "        A_i = arr[i]\n",
    "        arr[i] = arr[largest]\n",
    "        arr[largest] = A_i\n",
    "        max_heapify(arr,largest,n)\n",
    "    \n",
    "def build_max_heap(arr,n):\n",
    "    global count_comp\n",
    "    global count_exc \n",
    "    for i in range((len(arr)//2)-1,-1,-1):\n",
    "        max_heapify(arr,i,n)\n",
    "\n",
    "def heapsort(arr):\n",
    "    global count_comp\n",
    "    global count_exc \n",
    "    heapsize = len(arr)\n",
    "    build_max_heap(arr,heapsize) \n",
    "    for i in range(heapsize-1,0,-1):\n",
    "        count_exc += 1\n",
    "        A_0 = arr[0]\n",
    "        arr[0] = arr[i]\n",
    "        arr[i] = A_0 \n",
    "        max_heapify(arr,0,i)\n",
    "    return arr"
   ]
  },
  {
   "cell_type": "code",
   "execution_count": 83,
   "metadata": {},
   "outputs": [
    {
     "name": "stdout",
     "output_type": "stream",
     "text": [
      "   number of elements      time  number of comparisons  number of exchanges\n",
      "0                  10  0.000342                     64                   27\n",
      "1                 100  0.001391                   1240                  570\n",
      "2                1000  0.016969                  19042                 9021\n",
      "3               10000  0.221724                 257576               123788\n"
     ]
    }
   ],
   "source": [
    "heaptime = []\n",
    "heapcount_comp_time = []\n",
    "heapcount_exc_time = []\n",
    "\n",
    "def findheapsorttime(n):\n",
    "    global count_comp\n",
    "    global count_exc     \n",
    "    count_comp = 0\n",
    "    count_exc = 0    \n",
    "    t0 = time.time()\n",
    "    A = lst(n)\n",
    "    heapsort(A)\n",
    "    endtime = time.time()\n",
    "    return (endtime - t0),count_comp,count_exc\n",
    "\n",
    "\n",
    "n = [10,100,1000,10000]\n",
    "for i in range(len(n)):\n",
    "    heaptime_, count_comp_, count_exc_ = findheapsorttime(n[i])\n",
    "    heaptime.append(heaptime_)\n",
    "    heapcount_comp_time.append(count_comp_)\n",
    "    heapcount_exc_time.append(count_exc_)\n",
    "    \n",
    "data = {'number of elements': n,\n",
    "        'time':heaptime,\n",
    "        'number of comparisons':heapcount_comp_time,\n",
    "        'number of exchanges':heapcount_exc_time,}\n",
    "\n",
    "df = pd.DataFrame(data, columns = ['number of elements','time', 'number of comparisons', 'number of exchanges'])\n",
    "print (df)"
   ]
  },
  {
   "cell_type": "markdown",
   "metadata": {},
   "source": [
    "### Quicksort"
   ]
  },
  {
   "cell_type": "code",
   "execution_count": 84,
   "metadata": {},
   "outputs": [],
   "source": [
    "#Quick sort\n",
    "def quicksort(A,p,r):\n",
    "    global count_comp\n",
    "    global count_exc     \n",
    "    if p<r:\n",
    "        q = partition(A,p,r)\n",
    "        quicksort(A,p,q-1)\n",
    "        quicksort(A,q+1,r)\n",
    "    return A\n",
    "\n",
    "def partition(A,p,r):\n",
    "    global count_comp\n",
    "    global count_exc     \n",
    "    x = A[r]\n",
    "    i = p-1\n",
    "    for j in range(p,r-1):\n",
    "        count_comp += 1\n",
    "        if A[j] <= x:\n",
    "            i += 1\n",
    "            A[i],A[j] = A[j],A[i]\n",
    "            count_exc += 1\n",
    "    A[i+1],A[r] = A[r],A[i+1]\n",
    "    count_exc += 1\n",
    "    return i + 1"
   ]
  },
  {
   "cell_type": "code",
   "execution_count": 85,
   "metadata": {},
   "outputs": [
    {
     "name": "stdout",
     "output_type": "stream",
     "text": [
      "   number of elements      time  number of comparisons  number of exchanges\n",
      "0                  10  0.000175                     17                   12\n",
      "1                 100  0.000507                    565                  344\n",
      "2                1000  0.008920                  12543                 7008\n",
      "3               10000  0.167343                 230599               172324\n"
     ]
    }
   ],
   "source": [
    "quicktime = []\n",
    "quickcount_comp_time = []\n",
    "quickcount_exc_time = []\n",
    "\n",
    "def findquicksorttime(n):\n",
    "    global count_comp\n",
    "    global count_exc     \n",
    "    count_comp = 0\n",
    "    count_exc = 0    \n",
    "    t0 = time.time()\n",
    "    A = lst(n)\n",
    "    quicksort(A,0,len(A)-1)\n",
    "    endtime = time.time()\n",
    "    return (endtime - t0),count_comp,count_exc\n",
    "\n",
    "\n",
    "n = [10,100,1000,10000]\n",
    "for i in range(len(n)):\n",
    "    quicktime_, count_comp_, count_exc_ = findquicksorttime(n[i])\n",
    "    quicktime.append(quicktime_)\n",
    "    quickcount_comp_time.append(count_comp_)\n",
    "    quickcount_exc_time.append(count_exc_)\n",
    "import pandas as pd\n",
    "\n",
    "data = {'number of elements': n,\n",
    "        'time':quicktime,\n",
    "        'number of comparisons':quickcount_comp_time,\n",
    "        'number of exchanges':quickcount_exc_time,}\n",
    "\n",
    "df = pd.DataFrame(data, columns = ['number of elements','time', 'number of comparisons', 'number of exchanges'])\n",
    "print (df)"
   ]
  },
  {
   "cell_type": "markdown",
   "metadata": {},
   "source": [
    "### Mergesort"
   ]
  },
  {
   "cell_type": "code",
   "execution_count": 86,
   "metadata": {},
   "outputs": [],
   "source": [
    "def mergesort(lst):\n",
    "    global count_comp\n",
    "    global count_exc\n",
    "    if len(lst)>1:\n",
    "        mid = len(lst)//2\n",
    "        lh = lst[:mid]\n",
    "        rh = lst[mid:]\n",
    "\n",
    "        mergesort(lh)\n",
    "        mergesort(rh)\n",
    "        i=0\n",
    "        j=0\n",
    "        k=0\n",
    "        while i < len(lh) and j < len(rh):\n",
    "            count_comp += 1            \n",
    "            if lh[i] <= rh[j]:\n",
    "                count_exc += 1\n",
    "                lst[k]=lh[i]\n",
    "                i=i+1\n",
    "            else:\n",
    "                lst[k]=rh[j]\n",
    "                count_exc += 1                \n",
    "                j=j+1\n",
    "            k=k+1\n",
    "        while i < len(lh):\n",
    "            lst[k]=lh[i]\n",
    "            count_comp += 1 \n",
    "            count_exc += 1          \n",
    "            i=i+1\n",
    "            k=k+1\n",
    "        count_comp += 1\n",
    "        while j < len(rh):\n",
    "            lst[k]=rh[j]\n",
    "            count_comp += 1\n",
    "            count_exc += 1\n",
    "            j=j+1\n",
    "            k=k+1\n",
    "    return lst"
   ]
  },
  {
   "cell_type": "code",
   "execution_count": 87,
   "metadata": {},
   "outputs": [
    {
     "name": "stdout",
     "output_type": "stream",
     "text": [
      "   number of elements      time  number of comparisons  number of exchanges\n",
      "0                  10  0.000274                     43                   34\n",
      "1                 100  0.001338                    771                  672\n",
      "2                1000  0.017025                  10975                 9976\n",
      "3               10000  0.162418                 143615               133616\n"
     ]
    }
   ],
   "source": [
    "mergetime = []\n",
    "mergecount_comp_time = []\n",
    "mergecount_exc_time = []\n",
    "\n",
    "def findmergesorttime(n):\n",
    "    global count_comp\n",
    "    global count_exc     \n",
    "    count_comp = 0\n",
    "    count_exc = 0    \n",
    "    t0 = time.time()\n",
    "    A = lst(n)\n",
    "    mergesort(A)\n",
    "    endtime = time.time()\n",
    "    return (endtime - t0),count_comp,count_exc\n",
    "\n",
    "\n",
    "n = [10,100,1000,10000]\n",
    "for i in range(len(n)):\n",
    "    mergetime_, count_comp_, count_exc_ = findmergesorttime(n[i])\n",
    "    mergetime.append(mergetime_)\n",
    "    mergecount_comp_time.append(count_comp_)\n",
    "    mergecount_exc_time.append(count_exc_)\n",
    "\n",
    "data = {'number of elements': n,\n",
    "        'time':mergetime,\n",
    "        'number of comparisons':mergecount_comp_time,\n",
    "        'number of exchanges':mergecount_exc_time,}\n",
    "\n",
    "df = pd.DataFrame(data, columns = ['number of elements','time', 'number of comparisons', 'number of exchanges'])\n",
    "print (df)\n"
   ]
  },
  {
   "cell_type": "markdown",
   "metadata": {},
   "source": [
    "### Plot"
   ]
  },
  {
   "cell_type": "code",
   "execution_count": 57,
   "metadata": {},
   "outputs": [
    {
     "data": {
      "image/png": "[encoded data removed]",
      "text/plain": [
       "<Figure size 432x288 with 1 Axes>"
      ]
     },
     "metadata": {
      "needs_background": "light"
     },
     "output_type": "display_data"
    }
   ],
   "source": [
    "n = [10,100,1000,10000]\n",
    "plt.plot(n, heaptime, '-r',linewidth=1.0,label = 'heap sort')\n",
    "plt.plot(n,quicktime,'-b',linewidth=1.0, label = 'quick sort')\n",
    "plt.plot(n,mergetime,'-g',linewidth=1.0, label = 'merge sort')\n",
    "plt.xlabel('n')\n",
    "plt.ylabel('time')\n",
    "plt.legend() \n",
    "plt.show()"
   ]
  },
  {
   "cell_type": "code",
   "execution_count": 88,
   "metadata": {},
   "outputs": [
    {
     "data": {
      "image/png": "[encoded data removed]",
      "text/plain": [
       "<Figure size 432x288 with 1 Axes>"
      ]
     },
     "metadata": {
      "needs_background": "light"
     },
     "output_type": "display_data"
    }
   ],
   "source": [
    "n = [10,100,1000,10000]\n",
    "plt.plot(n,heapcount_comp_time, '-r',linewidth=1.0,label = 'heap sort')\n",
    "plt.plot(n,quickcount_comp_time,'-b',linewidth=1.0, label = 'quick sort')\n",
    "plt.plot(n,mergecount_comp_time,'-g',linewidth=1.0, label = 'merge sort')\n",
    "plt.xlabel('n')\n",
    "plt.ylabel('number of comparisons')\n",
    "plt.legend() \n",
    "plt.show()"
   ]
  },
  {
   "cell_type": "code",
   "execution_count": 89,
   "metadata": {},
   "outputs": [
    {
     "data": {
      "image/png": "[encoded data removed]",
      "text/plain": [
       "<Figure size 432x288 with 1 Axes>"
      ]
     },
     "metadata": {
      "needs_background": "light"
     },
     "output_type": "display_data"
    }
   ],
   "source": [
    "n = [10,100,1000,10000]\n",
    "plt.plot(n,heapcount_exc_time, '-r',linewidth=1.0,label = 'heap sort')\n",
    "plt.plot(n,quickcount_exc_time,'-b',linewidth=1.0, label = 'quick sort')\n",
    "plt.plot(n,mergecount_exc_time,'-g',linewidth=1.0, label = 'merge sort')\n",
    "plt.xlabel('n')\n",
    "plt.ylabel('number of exchanges')\n",
    "plt.legend() \n",
    "plt.show()"
   ]
  },
  {
   "cell_type": "markdown",
   "metadata": {},
   "source": [
    "### What I learnt"
   ]
  },
  {
   "cell_type": "markdown",
   "metadata": {},
   "source": [
    "As shown above, it is clear to see the differences in the running time, the number of comparisons as well as the number of exchanges between the three types of sort.\n",
    "Heapsort and mergesort seem to have a similar number of comparisons and exchanges which are relatively low when compared to those of quicksort.\n",
    "As a result, it can be concluded that the complexity of quicksort is larger than that of mergesort and heapsort.\n",
    "Therefore, for a large number of elements quicksort should be avoided."
   ]
  }
 ],
 "metadata": {
  "kernelspec": {
   "display_name": "Python 3",
   "language": "python",
   "name": "python3"
  },
  "language_info": {
   "codemirror_mode": {
    "name": "ipython",
    "version": 3
   },
   "file_extension": ".py",
   "mimetype": "text/x-python",
   "name": "python",
   "nbconvert_exporter": "python",
   "pygments_lexer": "ipython3",
   "version": "3.8.3"
  }
 },
 "nbformat": 4,
 "nbformat_minor": 4
}

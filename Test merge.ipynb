{
 "cells": [
  {
   "cell_type": "code",
   "execution_count": null,
   "metadata": {},
   "outputs": [],
   "source": [
    "# def lst(n):\n",
    "#     A = np.random.randint(10000,size=(1,n))\n",
    "#     np.random.seed(1)\n",
    "#     A = list(A[0])\n",
    "#     return A\n",
    "\n",
    "# def mergesort(A):\n",
    "# #     t0 = time.time()\n",
    "#     lstA = A\n",
    "#     print(lstA)\n",
    "#     len_A = len(A)\n",
    "#     if len_A >1:\n",
    "#         r = len_A\n",
    "#         p = 1\n",
    "#         q = int(np.floor((p+r)/2))\n",
    "#         n1 = int(q - 1 + 1)\n",
    "# #         print(r,p,q,n1)\n",
    "#         L = lstA[:n1]\n",
    "#         print(L)\n",
    "#         R = lstA[n1:]\n",
    "#         print(R)\n",
    "# #         a = np.inf\n",
    "# #         LL = np.append(L,a)\n",
    "# #         RR = np.append(R,a)\n",
    "# #         print(LL)\n",
    "# #         print(RR)\n",
    "        \n",
    "#         LLL = mergesort(L)\n",
    "#         RRR = mergesort(R)\n",
    "#         print(LLL)\n",
    "#         print(RRR)\n",
    "        \n",
    "# #         result = merge(LLL,RRR)\n",
    "# #         return result\n",
    "\n",
    "# def merge(Left,Right):\n",
    "#     sorted_list = []\n",
    "#     i = 0\n",
    "#     j = 0\n",
    "#     lf=Left\n",
    "#     print(lf)\n",
    "#     lflen = len(lf)\n",
    "#     rt=Right\n",
    "#     rtlen = len(rt)\n",
    "#     while i < lflen and j < rtlen:\n",
    "#         if lf[i] <= rt[j]:\n",
    "#             sorted_list.append(lf[i]) \n",
    "#             i += 1\n",
    "#         else:\n",
    "#             sorted_list.append(rt[j])             \n",
    "#             j += 1\n",
    "#     return sorted_list"
   ]
  },
  {
   "cell_type": "code",
   "execution_count": null,
   "metadata": {},
   "outputs": [],
   "source": [
    "# def mergesort(A):\n",
    "# #     t0 = time.time()\n",
    "#     lstA = A\n",
    "#     print(lstA)\n",
    "#     len_A = len(A)\n",
    "#     if len_A >1:\n",
    "#         r = len_A\n",
    "#         p = 1\n",
    "#         q = int(np.floor((p+r)/2))\n",
    "#         n1 = int(q - 1 + 1)\n",
    "# #         print(r,p,q,n1)\n",
    "#         L = lstA[:n1]\n",
    "#         print(L)\n",
    "#         R = lstA[n1:]\n",
    "#         print(R)\n",
    "# #         a = np.inf\n",
    "# #         LL = np.append(L,a)\n",
    "# #         RR = np.append(R,a)\n",
    "# #         print(LL)\n",
    "# #         print(RR)\n",
    "        \n",
    "#         mergesort(L)\n",
    "#         mergesort(R)\n",
    "# #         print(LLL)\n",
    "# #         print(RRR)\n",
    "        \n",
    "# #         result = merge(LLL,RRR)\n",
    "# #         return result\n",
    "\n",
    "#         sorted_list = []\n",
    "#         i = 0\n",
    "#         j = 0\n",
    "#         lf=LLL\n",
    "#         print(lf)\n",
    "#         lflen = len(lf)\n",
    "#         rt=RRR\n",
    "#         rtlen = len(rt)\n",
    "#         while i < lflen and j < rtlen:\n",
    "#             if lf[i] <= rt[j]:\n",
    "#                 sorted_list.append(lf[i]) \n",
    "#                 i += 1\n",
    "#             else:\n",
    "#                 sorted_list.append(rt[j])             \n",
    "#                 j += 1\n",
    "#                 return sorted_list"
   ]
  },
  {
   "cell_type": "code",
   "execution_count": null,
   "metadata": {},
   "outputs": [],
   "source": [
    "# print(lst(10))\n",
    "# type(lst(10))\n",
    "# lstA = lst(10)\n",
    "# len_A = len(lst(10))\n",
    "\n",
    "# print(len_A)\n",
    "\n",
    "# if len_A >1:\n",
    "#     r = len_A\n",
    "#     p = 1\n",
    "#     q = int(np.floor((p+r)/2))\n",
    "#     n1 = int(q - 1 + 1)\n",
    "#     print(r,p,q,n1)\n",
    "#     L = lstA[:n1]\n",
    "#     print(L)\n",
    "#     R = lstA[n1:]\n",
    "#     print(R)\n",
    "#     a = np.inf\n",
    "#     L = np.append(L,a)\n",
    "#     R = np.append(R,a)\n",
    "#     print(L)\n",
    "#     print(R)\n",
    "\n",
    "#      L = mergesort(L)\n",
    "# #     R = mergesort(R)\n",
    "# #     print(L)\n",
    "# #     print(R)\n",
    "\n",
    "#     result = merge(L,R)\n",
    "\n",
    "#     print(result)\n",
    "\n",
    "# # result"
   ]
  },
  {
   "cell_type": "code",
   "execution_count": null,
   "metadata": {},
   "outputs": [],
   "source": [
    "# mergetime = []\n",
    "# mergetime.append(mergesort(10))\n",
    "# mergetime.append(mergesort(100))\n",
    "# mergetime.append(mergesort(1000))\n",
    "# mergetime.append(mergesort(10000))\n",
    "# L = [3,4,10,18]\n",
    "R=[1,5,20,29]\n",
    "# merge(L,R)\n",
    "# lst(10)\n",
    "\n",
    "mergesort(R)"
   ]
  },
  {
   "cell_type": "code",
   "execution_count": 1,
   "metadata": {},
   "outputs": [
    {
     "name": "stdout",
     "output_type": "stream",
     "text": [
      "['i', 'n', 's']\n"
     ]
    }
   ],
   "source": [
    "l=[]\n",
    "l.insert(0,'i')\n",
    "l.insert(1,'n')\n",
    "l.insert(2,'s')\n",
    "print(l)\"\"\n"
   ]
  },
  {
   "cell_type": "code",
   "execution_count": 3,
   "metadata": {},
   "outputs": [
    {
     "data": {
      "text/plain": [
       "'i n s'"
      ]
     },
     "execution_count": 3,
     "metadata": {},
     "output_type": "execute_result"
    }
   ],
   "source": [
    "\" \".join(l)"
   ]
  },
  {
   "cell_type": "code",
   "execution_count": null,
   "metadata": {},
   "outputs": [],
   "source": []
  }
 ],
 "metadata": {
  "kernelspec": {
   "display_name": "Python 3",
   "language": "python",
   "name": "python3"
  },
  "language_info": {
   "codemirror_mode": {
    "name": "ipython",
    "version": 3
   },
   "file_extension": ".py",
   "mimetype": "text/x-python",
   "name": "python",
   "nbconvert_exporter": "python",
   "pygments_lexer": "ipython3",
   "version": "3.8.3"
  }
 },
 "nbformat": 4,
 "nbformat_minor": 4
}

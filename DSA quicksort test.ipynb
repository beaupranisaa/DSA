{
 "cells": [
  {
   "cell_type": "code",
   "execution_count": 7,
   "metadata": {},
   "outputs": [],
   "source": [
    "import numpy as np\n",
    "import time \n",
    "import random\n",
    "import math\n",
    "import matplotlib.pyplot as plt"
   ]
  },
  {
   "cell_type": "code",
   "execution_count": 8,
   "metadata": {},
   "outputs": [],
   "source": [
    "def lst(n):\n",
    "    A = np.random.randint(-100,100,size=(1,n))\n",
    "    np.random.seed(1)\n",
    "    A = list(A[0])\n",
    "    return A"
   ]
  },
  {
   "cell_type": "code",
   "execution_count": 9,
   "metadata": {},
   "outputs": [],
   "source": [
    "def max_heapify(arr,i,n):\n",
    "#     print(f\"max_heapify(A,{i})\")\n",
    "    l = 2*i + 1\n",
    "#     print(f\"l is {l}\")\n",
    "    r = 2*i + 2\n",
    "#     print(f\"r is {r}\")\n",
    "    largest = i\n",
    "#     print(\"Array:\",arr)\n",
    "    if l < n and arr[l] > arr[largest]:\n",
    "        largest = l\n",
    "    #         print(f\"largest is l {largest}\")\n",
    "    else: \n",
    "        largest = i\n",
    "    #         print(f\"largest is i {largest}\")\n",
    "    if r < n and arr[r] > arr[largest] :\n",
    "        largest = r\n",
    "    #                 print(f\"largest is r {largest}\")\n",
    "    if largest != i:\n",
    "    #         print(f\"old A[i]{A[i]}\")\n",
    "        A_i = arr[i]\n",
    "        arr[i] = arr[largest]\n",
    "    #         print(f\"swapped A[i] is {A[i]}\")\n",
    "        arr[largest] = A_i\n",
    "    #         print(f\"swapped A[largest] is {A[largest]}\")  \n",
    "    #         print(largest)\n",
    "    #         print(A)\n",
    "#         print(f\"max_heapify(A,{largest})\")\n",
    "        max_heapify(arr,largest,n)\n",
    "    #         print(f\"max_heapify(A,{largest})\")\n",
    "    \n",
    "def build_max_heap(arr,n):\n",
    "    #print(f\"heapsize is {heapsize}\")\n",
    "    for i in range((len(arr)//2)-1,-1,-1):\n",
    "#         print(\"=====build max heap======\")\n",
    "#         print(f\"i in build max heap {i}\")\n",
    "        max_heapify(arr,i,n)\n",
    "#     print(f\"BUILT FINISHED {arr}\")\n",
    "\n",
    "def heapsort(arr):\n",
    "    heapsize = len(arr)\n",
    "    build_max_heap(arr,heapsize)\n",
    "    count_com = 0\n",
    "    count_exc = 0   \n",
    "    for i in range(heapsize-1,0,-1):\n",
    "#         print(\"i\",i)\n",
    "        A_0 = arr[0]\n",
    "#         print(f\"A_0 {A_0}\")\n",
    "        arr[0] = arr[i]\n",
    "#         print(f\"A[0] {A[0]}\")\n",
    "        arr[i] = A_0\n",
    "#         print(f\"A[i] {A[i]}\")\n",
    "        #heapsize = heapsize - 1\n",
    "        \n",
    "        \n",
    "        max_heapify(arr,0,i)\n",
    "    return arr\n",
    "        "
   ]
  },
  {
   "cell_type": "code",
   "execution_count": 10,
   "metadata": {},
   "outputs": [],
   "source": [
    "#Quick sort\n",
    "\n",
    "def quicksort(A,p,r):\n",
    "    if p<r:\n",
    "        q = partition(A,p,r)\n",
    "        quicksort(A,p,q-1)\n",
    "        quicksort(A,q+1,r)\n",
    "    return A\n",
    "def partition(A,p,r):\n",
    "    x = A[r]\n",
    "    i = p-1\n",
    "    for j in range(p,r-1):\n",
    "        if A[j] <= x:\n",
    "            i += 1\n",
    "            A[i],A[j] = A[j],A[i]\n",
    "    A[i+1],A[r] = A[r],A[i+1]\n",
    "    return i + 1"
   ]
  },
  {
   "cell_type": "code",
   "execution_count": 11,
   "metadata": {},
   "outputs": [
    {
     "name": "stdout",
     "output_type": "stream",
     "text": [
      "[0.0004794597625732422, 0.0003352165222167969, 0.0042841434478759766, 0.08863139152526855]\n"
     ]
    }
   ],
   "source": [
    "quicksorttime = []\n",
    "\n",
    "def findquicksorttime(n):\n",
    "    t0 = time.time()\n",
    "    A = lst(n)\n",
    "#     print(A)\n",
    "    quicksort(A,0,len(A)-1)\n",
    "#     print(quicksort(A,0,len(A)-1))\n",
    "    endtime = time.time()\n",
    "    return (endtime - t0)\n",
    "\n",
    "quicksorttime.append(findquicksorttime(10))\n",
    "quicksorttime.append(findquicksorttime(100))\n",
    "quicksorttime.append(findquicksorttime(1000))\n",
    "quicksorttime.append(findquicksorttime(10000))\n",
    "print(quicksorttime)"
   ]
  },
  {
   "cell_type": "code",
   "execution_count": null,
   "metadata": {},
   "outputs": [],
   "source": []
  }
 ],
 "metadata": {
  "kernelspec": {
   "display_name": "Python 3",
   "language": "python",
   "name": "python3"
  },
  "language_info": {
   "codemirror_mode": {
    "name": "ipython",
    "version": 3
   },
   "file_extension": ".py",
   "mimetype": "text/x-python",
   "name": "python",
   "nbconvert_exporter": "python",
   "pygments_lexer": "ipython3",
   "version": "3.8.3"
  }
 },
 "nbformat": 4,
 "nbformat_minor": 4
}

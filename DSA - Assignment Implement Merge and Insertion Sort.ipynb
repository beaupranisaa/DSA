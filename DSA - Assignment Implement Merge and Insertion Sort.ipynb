{
 "cells": [
  {
   "cell_type": "markdown",
   "metadata": {},
   "source": [
    "## Implement Insertion and Merge Sort\n",
    "### Name: Pranisaa Charnparttaravanit ID: st121720"
   ]
  },
  {
   "cell_type": "markdown",
   "metadata": {},
   "source": [
    "Question\n",
    "\n",
    "Using python, please implement\n",
    "\n",
    "- Insertion Sort\n",
    "- Merge Sort\n",
    "\n",
    "Try n = 10, 100, 1000, 10000\n",
    "\n",
    "Record their running time and plot them in a graph.\n",
    "\n",
    "Submit the followings:\n",
    "1. Python code in pdf (exported)\n",
    "2. Your report (please keep them short - like one page) reporting what you learn - **no cover pages needed!**"
   ]
  },
  {
   "cell_type": "markdown",
   "metadata": {},
   "source": [
    "### Import libraries"
   ]
  },
  {
   "cell_type": "code",
   "execution_count": 713,
   "metadata": {},
   "outputs": [],
   "source": [
    "import numpy as np\n",
    "import time \n",
    "import random\n",
    "import matplotlib.pyplot as plt"
   ]
  },
  {
   "cell_type": "markdown",
   "metadata": {},
   "source": [
    "### Insertion Sort"
   ]
  },
  {
   "cell_type": "code",
   "execution_count": 728,
   "metadata": {},
   "outputs": [
    {
     "data": {
      "text/plain": [
       "[1.7642974853515625e-05,\n",
       " 0.0011267662048339844,\n",
       " 0.12463760375976562,\n",
       " 8.506336212158203]"
      ]
     },
     "execution_count": 728,
     "metadata": {},
     "output_type": "execute_result"
    }
   ],
   "source": [
    "insertiontime = []\n",
    "def insertionsort(A):\n",
    "    t0 = time.time()\n",
    "    lst = np.random.randint(10000,size=(1,A))\n",
    "    np.random.seed(1)\n",
    "    lst = list(lst[0]) \n",
    "    t0 = time.time()\n",
    "    for j in range(1,len(lst)):\n",
    "        key = lst[j]\n",
    "        i = j-1\n",
    "        while i >= 0  and lst[i] > key:\n",
    "            lst[i+1] = lst[i]\n",
    "            i = i-1\n",
    "        lst[i+1] = key\n",
    "    endtime = time.time() \n",
    "    insertiontime.append(endtime - t0)\n",
    "insertionsort(10)\n",
    "insertionsort(100)\n",
    "insertionsort(1000)\n",
    "insertionsort(10000)\n",
    "insertiontime"
   ]
  },
  {
   "cell_type": "markdown",
   "metadata": {},
   "source": [
    "### Merge sort"
   ]
  },
  {
   "cell_type": "code",
   "execution_count": 706,
   "metadata": {},
   "outputs": [],
   "source": [
    "def lst(n):\n",
    "    A = np.random.randint(10000,size=(1,n))\n",
    "    np.random.seed(1)\n",
    "    A = list(A[0])\n",
    "    return A\n",
    "\n",
    "def mergesort(lst):\n",
    "    if len(lst)>1:\n",
    "        mid = len(lst)//2\n",
    "        lh = lst[:mid]\n",
    "        rh = lst[mid:]\n",
    "\n",
    "        mergesort(lh)\n",
    "        mergesort(rh)\n",
    "\n",
    "        i=0\n",
    "        j=0\n",
    "        k=0\n",
    "        while i < len(lh) and j < len(rh):\n",
    "            if lh[i] <= rh[j]:\n",
    "                lst[k]=lh[i]\n",
    "                i=i+1\n",
    "            else:\n",
    "                lst[k]=rh[j]\n",
    "                j=j+1\n",
    "            k=k+1\n",
    "\n",
    "        while i < len(lh):\n",
    "            lst[k]=lh[i]\n",
    "            i=i+1\n",
    "            k=k+1\n",
    "\n",
    "        while j < len(rh):\n",
    "            lst[k]=rh[j]\n",
    "            j=j+1\n",
    "            k=k+1\n",
    "    return lst"
   ]
  },
  {
   "cell_type": "code",
   "execution_count": 732,
   "metadata": {},
   "outputs": [
    {
     "name": "stdout",
     "output_type": "stream",
     "text": [
      "[0.00026535987854003906, 0.0011556148529052734, 0.008644819259643555, 0.1113884449005127]\n"
     ]
    }
   ],
   "source": [
    "mergetime = []\n",
    "\n",
    "def mergesorttime(n):\n",
    "    t0 = time.time()\n",
    "    mergesort(lst(n))\n",
    "    endtime = time.time()\n",
    "    return (endtime - t0)\n",
    "\n",
    "mergetime.append(mergesorttime(10))\n",
    "mergetime.append(mergesorttime(100))\n",
    "mergetime.append(mergesorttime(1000))\n",
    "mergetime.append(mergesorttime(10000))\n",
    "print(mergetime)"
   ]
  },
  {
   "cell_type": "markdown",
   "metadata": {},
   "source": [
    "### Plot"
   ]
  },
  {
   "cell_type": "code",
   "execution_count": 751,
   "metadata": {},
   "outputs": [
    {
     "data": {
      "image/png": "[encoded data removed]",
      "text/plain": [
       "<Figure size 432x288 with 1 Axes>"
      ]
     },
     "metadata": {
      "needs_background": "light"
     },
     "output_type": "display_data"
    }
   ],
   "source": [
    "n = [10,100,1000,10000]\n",
    "plt.plot(n, insertiontime, '-r',linewidth=1.0,label = 'insertion sort')\n",
    "plt.plot(n,mergetime,'-b',linewidth=1.0, label = 'merge sort')\n",
    "plt.xlabel('n')\n",
    "plt.ylabel('time')\n",
    "plt.legend() \n",
    "plt.show()"
   ]
  },
  {
   "cell_type": "markdown",
   "metadata": {},
   "source": [
    "### What I have learnt"
   ]
  },
  {
   "cell_type": "markdown",
   "metadata": {},
   "source": [
    "From the graph plotted above, it can be concluded that merge sort takes dramatically less amount of time when compared to the insertion sort with small n values."
   ]
  }
 ],
 "metadata": {
  "kernelspec": {
   "display_name": "Python 3",
   "language": "python",
   "name": "python3"
  },
  "language_info": {
   "codemirror_mode": {
    "name": "ipython",
    "version": 3
   },
   "file_extension": ".py",
   "mimetype": "text/x-python",
   "name": "python",
   "nbconvert_exporter": "python",
   "pygments_lexer": "ipython3",
   "version": "3.8.3"
  }
 },
 "nbformat": 4,
 "nbformat_minor": 4
}

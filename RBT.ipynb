{
 "cells": [
  {
   "cell_type": "markdown",
   "metadata": {},
   "source": [
    "## Assignment RBT\n",
    "#### Name: Pranisaa Charnparttaravanit\n",
    "#### ID:st121720"
   ]
  },
  {
   "cell_type": "markdown",
   "metadata": {},
   "source": [
    "Implement Red Black Trees that supports only insertion.   For deletion, if anyone wants to treat it as challenge, you are also free to try but this assignment aims to strengthen the fundamentals first."
   ]
  },
  {
   "cell_type": "code",
   "execution_count": 1,
   "metadata": {},
   "outputs": [],
   "source": [
    "class Node:\n",
    "    def __init__(self, key):\n",
    "        self.left = None\n",
    "        self.right = None\n",
    "        self.p = None\n",
    "        self.key = key\n",
    "        self.color = \"Red\"\n",
    "        self.is_nil = False"
   ]
  },
  {
   "cell_type": "code",
   "execution_count": 2,
   "metadata": {},
   "outputs": [],
   "source": [
    "class Nil:\n",
    "    def __init__(self):\n",
    "        self.color = \"Black\"\n",
    "        self.p = None\n",
    "        self.is_nil = True"
   ]
  },
  {
   "cell_type": "code",
   "execution_count": 3,
   "metadata": {},
   "outputs": [],
   "source": [
    "class RBT:\n",
    "    def __init__(self):\n",
    "        self.nil = Nil()\n",
    "        self.root = None\n",
    "   \n",
    "    def LeftRotate(self,x):\n",
    "        y = x.right\n",
    "        x.right = y.left\n",
    "        if y.left.is_nil != self.nil.is_nil:\n",
    "            y.left.p = x\n",
    "        y.p = x.p\n",
    "        \n",
    "        if x.p.is_nil == self.nil.is_nil:\n",
    "            self.root = y\n",
    "        elif x == x.p.left:\n",
    "            x.p.left = y\n",
    "        else:\n",
    "            x.p.right = y\n",
    "        y.left = x\n",
    "        x.p = y\n",
    "            \n",
    "    def RightRotate(self,x):\n",
    "        y = x.left\n",
    "        x.left = y.right\n",
    "        if y.right.is_nil != self.nil.is_nil:\n",
    "            y.right.p = x\n",
    "        y.p = x.p\n",
    "        if x.p.is_nil == self.nil.is_nil:\n",
    "            self.root = y\n",
    "        elif x == x.p.right:\n",
    "            x.p.right = y\n",
    "        else:\n",
    "            x.p.left = y\n",
    "        y.right = x\n",
    "        x.p = y\n",
    "            \n",
    "    def RB_Insert_Fixup(self,z):\n",
    "        while z.p.color == \"Red\":\n",
    "            if z.p == z.p.p.left:\n",
    "                y = z.p.p.right\n",
    "                if y.color == \"Red\":\n",
    "                    z.p.color = \"Black\"\n",
    "                    y.color = \"Black\"\n",
    "                    z.p.p.color = \"Red\"\n",
    "                    z = z.p.p\n",
    "                else:\n",
    "                    if z == z.p.right:\n",
    "                        z = z.p\n",
    "                        self.LeftRotate(z)\n",
    "                    z.p.color = \"Black\"\n",
    "                    z.p.p.color = \"Red\"\n",
    "                    self.RightRotate(z.p.p)\n",
    "            else:\n",
    "                y = z.p.p.left\n",
    "                if y.color == \"Red\":\n",
    "                    z.p.color = \"Black\"\n",
    "                    y.color = \"Black\"\n",
    "                    z.p.p.color = \"Red\"\n",
    "                    z = z.p.p\n",
    "                else:\n",
    "                    if z == z.p.left:\n",
    "                        z = z.p\n",
    "                        self.RightRotate(z)\n",
    "                    z.p.color = \"Black\"\n",
    "                    z.p.p.color = \"Red\"\n",
    "                    self.LeftRotate(z.p.p)\n",
    "        self.root.color = \"Black\"\n",
    "        \n",
    "    def RB_Insert(self,z):\n",
    "\n",
    "        y = self.nil\n",
    "        x = self.root\n",
    "        \n",
    "        if x == None:\n",
    "            self.root = z\n",
    "            z.color = \"Black\"\n",
    "            z.left = self.nil\n",
    "            z.right = self.nil\n",
    "            z.p = Nil()\n",
    "        else:\n",
    "            while x.is_nil != self.nil.is_nil:\n",
    "                y = x\n",
    "                if z.key < x.key:\n",
    "                    x = x.left\n",
    "                else:\n",
    "                    x = x.right\n",
    "            z.p = y  \n",
    "            if y.is_nil == self.nil.is_nil:\n",
    "                self.root = z\n",
    "            elif z.key < y.key:\n",
    "                y.left = z\n",
    "            else:\n",
    "                y.right = z\n",
    "\n",
    "            z.left = self.nil\n",
    "            z.right = self.nil\n",
    "            z.color = \"Red\"\n",
    "            self.RB_Insert_Fixup(z)\n",
    "            \n",
    "    def traversal(self, x):\n",
    "        if x.is_nil != self.nil.is_nil:\n",
    "            self.traversal(x.left)\n",
    "            if x.key != None:\n",
    "                print(x.key) \n",
    "            self.traversal(x.right)\n"
   ]
  },
  {
   "cell_type": "markdown",
   "metadata": {},
   "source": [
    "#### Case 1"
   ]
  },
  {
   "cell_type": "code",
   "execution_count": 4,
   "metadata": {},
   "outputs": [],
   "source": [
    "mytree = RBT()\n",
    "node8 = Node(8)\n",
    "node18 = Node(18)\n",
    "node5 = Node(5)\n",
    "node15 = Node(15)\n",
    "\n",
    "mytree.RB_Insert(node8)\n",
    "mytree.RB_Insert(node18)\n",
    "mytree.RB_Insert(node5)\n",
    "mytree.RB_Insert(node15)"
   ]
  },
  {
   "cell_type": "code",
   "execution_count": 5,
   "metadata": {},
   "outputs": [
    {
     "name": "stdout",
     "output_type": "stream",
     "text": [
      "Root: key = 8, color = Black\n",
      "Left child of root: key = 5, color = Black\n",
      "Right child of root: key = 18, color = Black\n",
      "Left child of 18: key = 15, color =Red\n"
     ]
    }
   ],
   "source": [
    "print(f'Root: key = {mytree.root.key}, color = {mytree.root.color}') \n",
    "print(f'Left child of root: key = {mytree.root.left.key}, color = {mytree.root.left.color}')\n",
    "print(f'Right child of root: key = {mytree.root.right.key}, color = {mytree.root.right.color}')\n",
    "print(f'Left child of 18: key = {mytree.root.right.left.key}, color ={mytree.root.right.left.color}')"
   ]
  },
  {
   "cell_type": "markdown",
   "metadata": {},
   "source": [
    "#### Case 2 and 3\n"
   ]
  },
  {
   "cell_type": "code",
   "execution_count": 6,
   "metadata": {},
   "outputs": [],
   "source": [
    "node17 = Node(17)\n",
    "mytree.RB_Insert(node17)"
   ]
  },
  {
   "cell_type": "code",
   "execution_count": 7,
   "metadata": {},
   "outputs": [
    {
     "name": "stdout",
     "output_type": "stream",
     "text": [
      "Root: key = 8, color = Black\n",
      "Left child of root: key = 5, color = Black\n",
      "Right child of root: key = 17, color = Black\n",
      "Left child of 5: key = True, color =Black\n",
      "Right child of 5: key = True, color = Black\n",
      "Left child of 17: key = 15, color =Red\n",
      "Right child of 17: key = 18, color = Red\n"
     ]
    }
   ],
   "source": [
    "print(f'Root: key = {mytree.root.key}, color = {mytree.root.color}') \n",
    "print(f'Left child of root: key = {mytree.root.left.key}, color = {mytree.root.left.color}')\n",
    "print(f'Right child of root: key = {mytree.root.right.key}, color = {mytree.root.right.color}')\n",
    "print(f'Left child of 5: key = {mytree.root.left.left.is_nil}, color ={mytree.root.left.left.color}')\n",
    "print(f'Right child of 5: key = {mytree.root.left.right.is_nil}, color = {mytree.root.left.right.color}')\n",
    "print(f'Left child of 17: key = {mytree.root.right.left.key}, color ={mytree.root.right.left.color}')\n",
    "print(f'Right child of 17: key = {mytree.root.right.right.key}, color = {mytree.root.right.right.color}')"
   ]
  },
  {
   "cell_type": "code",
   "execution_count": 8,
   "metadata": {},
   "outputs": [
    {
     "name": "stdout",
     "output_type": "stream",
     "text": [
      "5\n",
      "8\n",
      "15\n",
      "17\n",
      "18\n",
      "None\n"
     ]
    }
   ],
   "source": [
    "# Traversal\n",
    "print(mytree.traversal(mytree.root))"
   ]
  },
  {
   "cell_type": "markdown",
   "metadata": {},
   "source": [
    "### What I have learnt\n",
    "\n",
    "In this assignment, the task was to implement the algorithm of insertion of the RBT. I find it was quite challenging and would like to give it another go later.\n",
    "\n",
    "So far, I have learnt that, in order to implement a RBT, a class node and a class nil are needed to store information of each node.\n",
    "I also noticed that for the function insert, a base case is required, as for the first insertion of a node into a tree"
   ]
  },
  {
   "cell_type": "code",
   "execution_count": null,
   "metadata": {},
   "outputs": [],
   "source": []
  }
 ],
 "metadata": {
  "kernelspec": {
   "display_name": "Python 3",
   "language": "python",
   "name": "python3"
  },
  "language_info": {
   "codemirror_mode": {
    "name": "ipython",
    "version": 3
   },
   "file_extension": ".py",
   "mimetype": "text/x-python",
   "name": "python",
   "nbconvert_exporter": "python",
   "pygments_lexer": "ipython3",
   "version": "3.8.6"
  }
 },
 "nbformat": 4,
 "nbformat_minor": 4
}
